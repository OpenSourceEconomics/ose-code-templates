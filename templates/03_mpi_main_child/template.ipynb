{
 "cells": [
  {
   "cell_type": "markdown",
   "metadata": {},
   "source": [
    "# Implementation of MPI main-child paradigm"
   ]
  },
  {
   "cell_type": "markdown",
   "metadata": {},
   "source": [
    "This template how to use MPI's main-child paradigm. As a use case we develop a basic sampler that provides the distribution of policy effects when there is uncertainty about the discount rate $\\delta$ and the return to schooling $\\beta_s$."
   ]
  },
  {
   "cell_type": "code",
   "execution_count": 2,
   "metadata": {},
   "outputs": [],
   "source": [
    "import sys\n",
    "import os\n",
    "\n",
    "import numpy as np\n",
    "\n",
    "\n",
    "\n",
    "import chaospy as cp\n",
    "\n",
    "\n",
    "\"\"\"We create our samples here as a numpy array. This is the fastest alternative\"\"\"\n",
    "distribution = cp.J(cp.Uniform(0.92, 0.98), cp.Uniform(0.03, 0.08))\n",
    "sample = distribution.sample(10000, rule=\"random\").T\n",
    "\n",
    "\n"
   ]
  },
  {
   "cell_type": "code",
   "execution_count": 5,
   "metadata": {},
   "outputs": [
    {
     "data": {
      "text/plain": [
       "array([[0.95697575, 0.03690117],\n",
       "       [0.92912465, 0.05673503],\n",
       "       [0.95848657, 0.06197958],\n",
       "       ...,\n",
       "       [0.95263025, 0.0652717 ],\n",
       "       [0.9637506 , 0.06866711],\n",
       "       [0.96281488, 0.0487646 ]])"
      ]
     },
     "execution_count": 5,
     "metadata": {},
     "output_type": "execute_result"
    }
   ],
   "source": [
    "sample.T"
   ]
  },
  {
   "cell_type": "code",
   "execution_count": null,
   "metadata": {},
   "outputs": [],
   "source": []
  }
 ],
 "metadata": {
  "kernelspec": {
   "display_name": "Python 3",
   "language": "python",
   "name": "python3"
  },
  "language_info": {
   "codemirror_mode": {
    "name": "ipython",
    "version": 3
   },
   "file_extension": ".py",
   "mimetype": "text/x-python",
   "name": "python",
   "nbconvert_exporter": "python",
   "pygments_lexer": "ipython3",
   "version": "3.7.7"
  }
 },
 "nbformat": 4,
 "nbformat_minor": 4
}
