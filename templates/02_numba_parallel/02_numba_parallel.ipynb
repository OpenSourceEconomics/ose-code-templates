{
 "cells": [
  {
   "cell_type": "code",
   "execution_count": 16,
   "metadata": {},
   "outputs": [],
   "source": [
    "import numpy as np\n",
    "from numba import prange, njit, guvectorize"
   ]
  },
  {
   "cell_type": "code",
   "execution_count": 7,
   "metadata": {},
   "outputs": [],
   "source": [
    "# Lets get some test resources. The names and the structure from the examples are taken from respy\n",
    "wages = np.ones((100, 4))\n",
    "nonpecs = np.ones((100, 4))\n",
    "continuation_values = np.ones((100, 4))\n",
    "period_draws_emax_risk = np.ones((50, 4))\n",
    "delta = 0.95"
   ]
  },
  {
   "cell_type": "markdown",
   "metadata": {},
   "source": [
    "# Parallelization of @jit functions\n",
    "\n",
    "Numba offers automatic parallelization of jit functions. This can either happen implicit on array operations or explicit with the keyword statement `parallel=True` and e.g. parralel loops with `prange`.\n",
    "The resources for this can be found here:\n",
    "https://numba.pydata.org/numba-doc/latest/user/parallel.html\n"
   ]
  },
  {
   "cell_type": "code",
   "execution_count": 10,
   "metadata": {},
   "outputs": [],
   "source": [
    "@nb.njit(parallel=True)\n",
    "def parralel_loop(wages, nonpecs, continuation_values, draws, delta):\n",
    "    num_states, n_ch = wages.shape\n",
    "    n_draws, n_choices = draws.shape\n",
    "    out = 0\n",
    "    for l in prange(num_states):\n",
    "        for i in prange(n_draws):\n",
    "            for j in prange(n_choices):\n",
    "                out += (\n",
    "                    wages[l, j] * draws[i, j]\n",
    "                    + nonpecs[l, j]\n",
    "                    + delta * continuation_values[l, j]\n",
    "                )\n",
    "\n",
    "    return out"
   ]
  },
  {
   "cell_type": "markdown",
   "metadata": {},
   "source": [
    "# Diagnostics\n",
    "\n",
    "When calling an explicit parallelized function, numba tries to create separate calculations to run multiple kernels or threads. The optimization behavior can be inspected by using:\n",
    "`func.parallel_diagnostics(level=4)`\n",
    "\n",
    "The levels can vary from 1 to 4. The resources to this can be found on\n",
    "https://numba.pydata.org/numba-doc/latest/user/parallel.html#diagnostics\n"
   ]
  },
  {
   "cell_type": "code",
   "execution_count": 11,
   "metadata": {},
   "outputs": [
    {
     "name": "stdout",
     "output_type": "stream",
     "text": [
      " \n",
      "================================================================================\n",
      " Parallel Accelerator Optimizing:  Function parralel_loop, <ipython-\n",
      "input-10-98b24b4d317b> (1)  \n",
      "================================================================================\n",
      "\n",
      "\n",
      "Parallel loop listing for  Function parralel_loop, <ipython-input-10-98b24b4d317b> (1) \n",
      "-------------------------------------------------------------------------|loop #ID\n",
      "@nb.njit(parallel=True)                                                  | \n",
      "def parralel_loop(wages, nonpecs, continuation_values, draws, delta):    | \n",
      "    num_states, n_ch = wages.shape                                       | \n",
      "    n_draws, n_choices = draws.shape                                     | \n",
      "    out = 0                                                              | \n",
      "    for l in prange(num_states):-----------------------------------------| #2\n",
      "        for i in prange(n_draws):----------------------------------------| #1\n",
      "            for j in prange(n_choices):----------------------------------| #0\n",
      "                out += (                                                 | \n",
      "                    wages[l, j] * draws[i, j]                            | \n",
      "                    + nonpecs[l, j]                                      | \n",
      "                    + delta * continuation_values[l, j]                  | \n",
      "                )                                                        | \n",
      "                                                                         | \n",
      "    return out                                                           | \n",
      "--------------------------------- Fusing loops ---------------------------------\n",
      "Attempting fusion of parallel loops (combines loops with similar properties)...\n",
      "----------------------------- Before Optimisation ------------------------------\n",
      "Parallel region 0:\n",
      "+--2 (parallel)\n",
      "   +--1 (parallel)\n",
      "      +--0 (parallel)\n",
      "\n",
      "\n",
      "--------------------------------------------------------------------------------\n",
      "------------------------------ After Optimisation ------------------------------\n",
      "Parallel region 0:\n",
      "+--2 (parallel)\n",
      "   +--1 (serial)\n",
      "      +--0 (serial)\n",
      "\n",
      "\n",
      " \n",
      "Parallel region 0 (loop #2) had 0 loop(s) fused and 2 loop(s) serialized as part\n",
      " of the larger parallel loop (#2).\n",
      "--------------------------------------------------------------------------------\n",
      "--------------------------------------------------------------------------------\n",
      " \n",
      "---------------------------Loop invariant code motion---------------------------\n",
      "Allocation hoisting:\n",
      "No allocation hoisting found\n",
      "\n",
      "Instruction hoisting:\n",
      "loop #2 has nothing to hoist.\n",
      "No instruction hoisting found\n",
      "--------------------------------------------------------------------------------\n"
     ]
    }
   ],
   "source": [
    "# An example of the two things above:\n",
    "parralel_loop(wages, nonpecs, continuation_values, period_draws_emax_risk, delta)\n",
    "parralel_loop.parallel_diagnostics(level=4)"
   ]
  },
  {
   "cell_type": "markdown",
   "metadata": {},
   "source": [
    "# Parallelization of `@guvectorize` functions\n",
    "\n",
    "When using `@guvectorize`, you can define functions on multiple arrays, which then can be parallelized across the entries of the arrays with `target=”parallel”`. Details to `@guvectorize` can be found here:\n",
    "https://numba.pydata.org/numba-doc/latest/reference/jit-compilation.html#numba.guvectorize"
   ]
  },
  {
   "cell_type": "code",
   "execution_count": 17,
   "metadata": {},
   "outputs": [],
   "source": [
    "@guvectorize(\n",
    "    [\"f8[:], f8[:], f8[:], f8[:, :], f8, f8[:]\"],\n",
    "    \"(n_choices), (n_choices), (n_choices), (n_draws, n_choices), () -> ()\",\n",
    "    nopython=True,\n",
    "    target=\"parallel\",\n",
    ")\n",
    "def calculate_expected_value_functions(\n",
    "    wages, nonpecs, continuation_values, draws, delta, expected_value_functions\n",
    "):\n",
    "    n_draws, n_choices = draws.shape\n",
    "\n",
    "    expected_value_functions[0] = 0\n",
    "\n",
    "    for i in range(n_draws):\n",
    "\n",
    "        max_value_functions = 0\n",
    "\n",
    "        for j in range(n_choices):\n",
    "            value_function = (\n",
    "                wages[j] * draws[i, j] + nonpecs[j] + delta * continuation_values[j]\n",
    "            )\n",
    "\n",
    "            if value_function > max_value_functions:\n",
    "                max_value_functions = value_function\n",
    "\n",
    "        expected_value_functions[0] += max_value_functions\n",
    "\n",
    "    expected_value_functions[0] /= n_draws"
   ]
  },
  {
   "cell_type": "markdown",
   "metadata": {},
   "source": [
    "The statement `target=”parallel”` does not explicitly state that the code inside the `@guvectorize` function is parallelized itself. However, one can rule out this possibility, if the function diagnosed with the tools described above does not offer any parallelization. Thus, to my knowledge, there is no explicit possibility to fix a parallelization structure. One can only design the code, such that the intended parallelization happens when the `@guvectorized` function is called."
   ]
  }
 ],
 "metadata": {
  "kernelspec": {
   "display_name": "Python 3",
   "language": "python",
   "name": "python3"
  },
  "language_info": {
   "codemirror_mode": {
    "name": "ipython",
    "version": 3
   },
   "file_extension": ".py",
   "mimetype": "text/x-python",
   "name": "python",
   "nbconvert_exporter": "python",
   "pygments_lexer": "ipython3",
   "version": "3.7.7"
  }
 },
 "nbformat": 4,
 "nbformat_minor": 2
}
